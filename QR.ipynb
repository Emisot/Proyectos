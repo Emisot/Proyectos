{
  "nbformat": 4,
  "nbformat_minor": 0,
  "metadata": {
    "colab": {
      "provenance": [],
      "authorship_tag": "ABX9TyOlh0RLx1E5fyI+uMqREHKy"
    },
    "kernelspec": {
      "name": "python3",
      "display_name": "Python 3"
    },
    "language_info": {
      "name": "python"
    }
  },
  "cells": [
    {
      "cell_type": "code",
      "source": [
        "!pip install pypng"
      ],
      "metadata": {
        "colab": {
          "base_uri": "https://localhost:8080/"
        },
        "id": "r1vwfIKt9vkl",
        "outputId": "ec93de4e-1316-43b6-ea0d-b0e50b7b8ea5"
      },
      "execution_count": null,
      "outputs": [
        {
          "output_type": "stream",
          "name": "stdout",
          "text": [
            "Looking in indexes: https://pypi.org/simple, https://us-python.pkg.dev/colab-wheels/public/simple/\n",
            "Requirement already satisfied: pypng in /usr/local/lib/python3.7/dist-packages (0.20220715.0)\n"
          ]
        }
      ]
    },
    {
      "cell_type": "code",
      "source": [
        "import pyqrcode\n",
        "import png\n",
        "link='7771099275'\n",
        "qr_code=pyqrcode.create(link)\n",
        "x=qr_code.png(\"romantic.png\" , scale=5)\n"
      ],
      "metadata": {
        "id": "lP-IzQtb8vrr"
      },
      "execution_count": null,
      "outputs": []
    }
  ]
}